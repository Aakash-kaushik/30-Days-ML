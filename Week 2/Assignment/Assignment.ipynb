{
 "cells": [
  {
   "cell_type": "markdown",
   "metadata": {},
   "source": [
    "# Week 2 Assignment\n",
    "\n",
    "[<img src=\"./assets/nbx.jpeg\" alt=\"NimbleBox.ai logo\" width=\"600\"/>](https://www.nimblebox.ai)"
   ]
  },
  {
   "cell_type": "markdown",
   "metadata": {},
   "source": [
    "In this Assignmnet you are going to work on dataset of heart patients and your first task will be to load the dataset and decide if the problem is a classification or a regression problem. "
   ]
  },
  {
   "cell_type": "code",
   "execution_count": 19,
   "metadata": {},
   "outputs": [],
   "source": [
    "import pandas as pd\n",
    "\n",
    "# Load the dataset\n",
    "data = pd.read_csv(\"assets/data.csv\")\n",
    "\n",
    "# Use head() function from pandas to look at the dataset and\n",
    "# decide if it is a regression or a classification problem\n"
   ]
  },
  {
   "cell_type": "markdown",
   "metadata": {},
   "source": [
    "More Information about the dataset \n",
    "\n",
    "1. age\n",
    "2. sex\n",
    "3. chest pain type (4 values)\n",
    "4. resting blood pressure\n",
    "5. serum cholestoral in mg/dl\n",
    "6. fasting blood sugar > 120 mg/dl\n",
    "7. resting electrocardiographic results (values 0,1,2)\n",
    "8. maximum heart rate achieved\n",
    "9. exercise induced angina\n",
    "10. oldpeak = ST depression induced by exercise relative to rest\n",
    "11. the slope of the peak exercise ST segment\n",
    "12. number of major vessels (0-3) colored by flourosopy\n",
    "13. thal: 3 = normal; 6 = fixed defect; 7 = reversable defect"
   ]
  },
  {
   "cell_type": "markdown",
   "metadata": {},
   "source": [
    "Write your answer below if you think the right answer is regression or classification, Do check your spelling.\n",
    "\n",
    "# Send the option for grading "
   ]
  },
  {
   "cell_type": "code",
   "execution_count": null,
   "metadata": {
    "scrolled": true
   },
   "outputs": [],
   "source": [
    "# Do not delete\n",
    "answer = <your answer here as a string>"
   ]
  },
  {
   "cell_type": "markdown",
   "metadata": {},
   "source": [
    "Now you are going to split the data for training into trainX(features) and trainY(target) you can look at the data and see that there is a column named \"target\" that will be your target vector which is trainY and everything else will be trainX, you can use the function iloc() from pandas to split the data between features and target after that you import the LogisticRegression model from sklearn and train it for 1000 iterations "
   ]
  },
  {
   "cell_type": "code",
   "execution_count": null,
   "metadata": {},
   "outputs": [],
   "source": [
    "# Pandas was already imported in the above cells\n",
    "# use the iloc() function from pandas to split data\n",
    "# in trainX and trainY and then use trainX and trainY\n",
    "# to train your LogisticRegression model. \n",
    "trainX = \n",
    "trainY = \n",
    "\n",
    "# Import the LogisticRegression model\n",
    "from sklearn.linear_model import <import the model here>\n",
    "\n",
    "# Create the logisticRegression object with\n",
    "# max_iter = 1000 and random_state = 0\n",
    "log_reg = \n",
    "\n",
    "# Train the model\n"
   ]
  },
  {
   "cell_type": "markdown",
   "metadata": {},
   "source": [
    "# Send the pickled model for grading and return the accuracy back  \n"
   ]
  },
  {
   "cell_type": "code",
   "execution_count": null,
   "metadata": {},
   "outputs": [],
   "source": [
    "# Do not delete\n",
    "import pickle \n",
    "\n",
    "log_model = pickle.dump(log_reg)"
   ]
  },
  {
   "cell_type": "markdown",
   "metadata": {},
   "source": [
    "Now you are going to use decision trees to classify the same data and see how your accuracy changes and which model is a better model, You should use the same trainX and trainY to train this model and you will use the gini impurity for classification and model building. "
   ]
  },
  {
   "cell_type": "code",
   "execution_count": null,
   "metadata": {},
   "outputs": [],
   "source": [
    "# Import the DecisionTreeClassifier\n",
    "from sklearn.tree import <import the model here>\n",
    "\n",
    "# Create a DecisionTreeClassifier object with \n",
    "# criterion = \"gini\"\n",
    "clf = \n",
    "\n",
    "# Train the model\n"
   ]
  },
  {
   "cell_type": "markdown",
   "metadata": {},
   "source": [
    "# Send the pickled model for grading and return the accuracy back  \n"
   ]
  },
  {
   "cell_type": "code",
   "execution_count": null,
   "metadata": {},
   "outputs": [],
   "source": [
    "# Do not delete\n",
    "clf_model = pickle.dump(clf)"
   ]
  },
  {
   "cell_type": "markdown",
   "metadata": {},
   "source": [
    "For the last assignment we are going to use Kmeans clustering to cluster the brand/make of cars and you have to clean the data where there are null values.\n",
    "\n",
    "path to the file is __\"assets/cars.csv\"__"
   ]
  },
  {
   "cell_type": "code",
   "execution_count": 73,
   "metadata": {},
   "outputs": [],
   "source": [
    "import numpy as np\n",
    "\n",
    "# Load the data using pandas\n",
    "cars_data = pd.read_csv(\"assets/cars.csv\")\n",
    "\n",
    "# call info() on cars_data to check the Dtype\n",
    "# You are going to notice that some of the Dtypes \n",
    "# are objects and you can't pass objects types to \n",
    "# sklearn and that's you need to convert them to the\n",
    "# correct type or change the values and then convert the type\n",
    "<Your call to info() on cars_data here>"
   ]
  },
  {
   "cell_type": "code",
   "execution_count": 72,
   "metadata": {},
   "outputs": [
    {
     "data": {
      "text/html": [
       "<div>\n",
       "<style scoped>\n",
       "    .dataframe tbody tr th:only-of-type {\n",
       "        vertical-align: middle;\n",
       "    }\n",
       "\n",
       "    .dataframe tbody tr th {\n",
       "        vertical-align: top;\n",
       "    }\n",
       "\n",
       "    .dataframe thead th {\n",
       "        text-align: right;\n",
       "    }\n",
       "</style>\n",
       "<table border=\"1\" class=\"dataframe\">\n",
       "  <thead>\n",
       "    <tr style=\"text-align: right;\">\n",
       "      <th></th>\n",
       "      <th>mpg</th>\n",
       "      <th>cylinders</th>\n",
       "      <th>cubicinches</th>\n",
       "      <th>hp</th>\n",
       "      <th>weightlbs</th>\n",
       "      <th>time_to_60</th>\n",
       "      <th>year</th>\n",
       "      <th>brand</th>\n",
       "    </tr>\n",
       "  </thead>\n",
       "  <tbody>\n",
       "    <tr>\n",
       "      <th>0</th>\n",
       "      <td>14.0</td>\n",
       "      <td>8</td>\n",
       "      <td>350</td>\n",
       "      <td>165</td>\n",
       "      <td>4209</td>\n",
       "      <td>12</td>\n",
       "      <td>1972</td>\n",
       "      <td>US</td>\n",
       "    </tr>\n",
       "    <tr>\n",
       "      <th>1</th>\n",
       "      <td>31.9</td>\n",
       "      <td>4</td>\n",
       "      <td>89</td>\n",
       "      <td>71</td>\n",
       "      <td>1925</td>\n",
       "      <td>14</td>\n",
       "      <td>1980</td>\n",
       "      <td>Europe</td>\n",
       "    </tr>\n",
       "    <tr>\n",
       "      <th>2</th>\n",
       "      <td>17.0</td>\n",
       "      <td>8</td>\n",
       "      <td>302</td>\n",
       "      <td>140</td>\n",
       "      <td>3449</td>\n",
       "      <td>11</td>\n",
       "      <td>1971</td>\n",
       "      <td>US</td>\n",
       "    </tr>\n",
       "    <tr>\n",
       "      <th>3</th>\n",
       "      <td>15.0</td>\n",
       "      <td>8</td>\n",
       "      <td>400</td>\n",
       "      <td>150</td>\n",
       "      <td>3761</td>\n",
       "      <td>10</td>\n",
       "      <td>1971</td>\n",
       "      <td>US</td>\n",
       "    </tr>\n",
       "    <tr>\n",
       "      <th>4</th>\n",
       "      <td>30.5</td>\n",
       "      <td>4</td>\n",
       "      <td>98</td>\n",
       "      <td>63</td>\n",
       "      <td>2051</td>\n",
       "      <td>17</td>\n",
       "      <td>1978</td>\n",
       "      <td>US</td>\n",
       "    </tr>\n",
       "  </tbody>\n",
       "</table>\n",
       "</div>"
      ],
      "text/plain": [
       "    mpg  cylinders  cubicinches   hp weightlbs  time_to_60  year   brand\n",
       "0  14.0          8          350  165      4209          12  1972      US\n",
       "1  31.9          4           89   71      1925          14  1980  Europe\n",
       "2  17.0          8          302  140      3449          11  1971      US\n",
       "3  15.0          8          400  150      3761          10  1971      US\n",
       "4  30.5          4           98   63      2051          17  1978      US"
      ]
     },
     "execution_count": 72,
     "metadata": {},
     "output_type": "execute_result"
    }
   ],
   "source": [
    "# As you can see that cubicinches, weightlbs are of object\n",
    "# types But when you call cars_data.head() you can see that \n",
    "# they are actually just integers\n",
    "cars_data.head()"
   ]
  },
  {
   "cell_type": "code",
   "execution_count": null,
   "metadata": {},
   "outputs": [],
   "source": [
    "# Converting empty cells to NaN values so those rows are easier to remove\n",
    "cars_data = cars_data.replace(\" \", np.nan)\n",
    "\n",
    "# Dropping rows with NaN values \n",
    "cars_data = cars_data.drop((np.where(pd.isnull(cars_data)))[0])\n",
    "\n",
    "# Convert cubicinches to numeric type\n",
    "cars_data.cubicinches = cars_data.cubicinches.astype('int')\n",
    "\n",
    "# Do the same for weightlbs and convert that numeric type\n",
    "cars_data.weightlbs = \n",
    "\n",
    "# By looking at the brand we see that there are only 3 unique brand \n",
    "# and so we will try to classify the data in 3 clusters there are multiple \n",
    "# ways to find how many number of clusters will be best, one such is\n",
    "# the elbow method but here we justwant to classify the data\n",
    "# in 3 brands and that's why we are taking 3 clusters\n",
    "print(\"\\nUnique brands: \" + str(cars_data.brand.unique()))\n",
    "\n",
    "# select the complete data except the last column\n",
    "# that is the brand column for clustering using iloc\n",
    "Xkmeans = \n",
    "\n",
    "# Import the KMeans model from sklearn \n",
    "from sklearn.cluster import <import the model here>\n",
    "\n",
    "# Create a KMeans object and assign n_clusters = 3, init = \"k-means++\",\n",
    "# max_iter = 300, n_init = 10, random_state = 0\n",
    "kmeans = \n",
    "\n",
    "Ykmeans = kmeans.fit_predict(Xkmeans)"
   ]
  },
  {
   "cell_type": "markdown",
   "metadata": {},
   "source": [
    "# Check the centroids by sending YKmeans to graders "
   ]
  }
 ],
 "metadata": {
  "kernelspec": {
   "display_name": "Python 3",
   "language": "python",
   "name": "python3"
  },
  "language_info": {
   "codemirror_mode": {
    "name": "ipython",
    "version": 3
   },
   "file_extension": ".py",
   "mimetype": "text/x-python",
   "name": "python",
   "nbconvert_exporter": "python",
   "pygments_lexer": "ipython3",
   "version": "3.8.6"
  }
 },
 "nbformat": 4,
 "nbformat_minor": 4
}
