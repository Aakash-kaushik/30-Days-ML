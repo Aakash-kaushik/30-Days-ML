{
 "cells": [
  {
   "cell_type": "markdown",
   "metadata": {},
   "source": [
    "# Week 2 Assignment\n",
    "\n",
    "[<img src=\"./assets/nbx.jpeg\" alt=\"NimbleBox.ai logo\" width=\"600\"/>](https://www.nimblebox.ai)"
   ]
  },
  {
   "cell_type": "markdown",
   "metadata": {},
   "source": [
    "# Give the data with characters values and and let them decide if linear or logistic regression should be used.\n",
    "\n",
    "## Feature Engineering\n",
    "## Logistic regression -> decesion trees \n",
    "## then new data for kmeans"
   ]
  },
  {
   "cell_type": "markdown",
   "metadata": {},
   "source": [
    "In this Assignmnet you are going to work on dataset of heart patients and your first task will be to load the dataset and decide if the problem is a classification or a regression problem. "
   ]
  },
  {
   "cell_type": "code",
   "execution_count": null,
   "metadata": {},
   "outputs": [],
   "source": [
    "import pandas as pd\n",
    "\n",
    "# Load the dataset\n",
    "data = pd.read_csv(\"assets/data.csv\")\n",
    "\n",
    "# Use head() function from pandas to look at the dataset and\n",
    "# decide if it is a regression or a classification problem\n"
   ]
  },
  {
   "cell_type": "markdown",
   "metadata": {},
   "source": [
    "More Information about the dataset \n",
    "\n",
    "1. age\n",
    "2. sex\n",
    "3. chest pain type (4 values)\n",
    "4. resting blood pressure\n",
    "5. serum cholestoral in mg/dl\n",
    "6. fasting blood sugar > 120 mg/dl\n",
    "7. resting electrocardiographic results (values 0,1,2)\n",
    "8. maximum heart rate achieved\n",
    "9. exercise induced angina\n",
    "10. oldpeak = ST depression induced by exercise relative to rest\n",
    "11. the slope of the peak exercise ST segment\n",
    "12. number of major vessels (0-3) colored by flourosopy\n",
    "13. thal: 3 = normal; 6 = fixed defect; 7 = reversable defect"
   ]
  },
  {
   "cell_type": "markdown",
   "metadata": {},
   "source": [
    "Write your answer below if you think the right answer is regression or classification, Do check your spelling.\n",
    "\n",
    "# Send the option for grading "
   ]
  },
  {
   "cell_type": "code",
   "execution_count": null,
   "metadata": {
    "scrolled": true
   },
   "outputs": [],
   "source": [
    "# Do not delete\n",
    "answer = <your answer here as a string>"
   ]
  },
  {
   "cell_type": "markdown",
   "metadata": {},
   "source": [
    "Now you are going to split the data for training into trainX(features) and trainY(target) you can look at the data and see that there is a column named \"target\" that will be your target vector which is trainY and everything else will be trainX, you can use the function iloc() from pandas to split the data between features and target after that you import the LogisticRegression model from sklearn and train it for 1000 iterations "
   ]
  },
  {
   "cell_type": "code",
   "execution_count": null,
   "metadata": {},
   "outputs": [],
   "source": [
    "# Pandas was already imported in the above cells\n",
    "# use the iloc() function from pandas to split data\n",
    "# in trainX and trainY and then use trainX and trainY\n",
    "# to train your LogisticRegression model. \n",
    "trainX = \n",
    "trainY = \n",
    "\n",
    "# Import the LogisticRegression model\n",
    "from sklearn.linear_model import \n",
    "\n",
    "# Create the logisticRegression object with\n",
    "# max_iter = 1000 and random_state = 0\n",
    "log_reg = \n",
    "\n",
    "# Train the model\n"
   ]
  },
  {
   "cell_type": "markdown",
   "metadata": {},
   "source": [
    "# Send the pickled model for grading and return the accuracy back  \n"
   ]
  },
  {
   "cell_type": "code",
   "execution_count": null,
   "metadata": {},
   "outputs": [],
   "source": [
    "# Do not delete\n",
    "import pickle \n",
    "\n",
    "log_model = pickle.dump(log_reg)"
   ]
  },
  {
   "cell_type": "markdown",
   "metadata": {},
   "source": [
    "Now you are going to use decision trees to classify the same data and see how your accuracy changes and which model is a better model, You should use the same trainX and trainY to train this model and you will use the gini impurity for classification and model building. "
   ]
  },
  {
   "cell_type": "code",
   "execution_count": null,
   "metadata": {},
   "outputs": [],
   "source": [
    "# Import the DecisionTreeClassifier\n",
    "from sklearn.tree import \n",
    "\n",
    "# Create a DecisionTreeClassifier object with \n",
    "# criterion = \"gini\"\n",
    "clf = \n",
    "\n",
    "# Train the model\n"
   ]
  },
  {
   "cell_type": "markdown",
   "metadata": {},
   "source": [
    "# Send the pickled model for grading and return the accuracy back  \n"
   ]
  },
  {
   "cell_type": "code",
   "execution_count": null,
   "metadata": {},
   "outputs": [],
   "source": [
    "# Do not delete\n",
    "clf_model = pickle.dump(clf)"
   ]
  },
  {
   "cell_type": "markdown",
   "metadata": {},
   "source": [
    "For the last assignment "
   ]
  }
 ],
 "metadata": {
  "kernelspec": {
   "display_name": "Python 3",
   "language": "python",
   "name": "python3"
  },
  "language_info": {
   "codemirror_mode": {
    "name": "ipython",
    "version": 3
   },
   "file_extension": ".py",
   "mimetype": "text/x-python",
   "name": "python",
   "nbconvert_exporter": "python",
   "pygments_lexer": "ipython3",
   "version": "3.8.6"
  }
 },
 "nbformat": 4,
 "nbformat_minor": 4
}
