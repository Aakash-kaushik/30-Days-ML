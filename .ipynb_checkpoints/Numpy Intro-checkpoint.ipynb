{
 "cells": [
  {
   "cell_type": "markdown",
   "metadata": {
    "colab": {},
    "colab_type": "code",
    "id": "RiWOqVGJpnR5",
    "outputId": "fdde8e36-e354-4943-d027-e8a691e184ec"
   },
   "source": [
    "# Introduction to NumPy"
   ]
  },
  {
   "cell_type": "markdown",
   "metadata": {
    "colab_type": "text",
    "id": "kJQgCx-EpnRm"
   },
   "source": [
    "Adapted by [Nimblebox Inc.](https://www.nimblebox.ai/) from the `Data-X: Introduction to Numpy` tutorial by [Alexander Fred Ojala](https://alex.fo/) and [Ikhlaq Sidhu](https://vcresearch.berkeley.edu/faculty/ikhlaq-sidhu),  [`Python Data Science Handbook`](http://shop.oreilly.com/product/0636920034919.do) by [Jake VanderPlas](https://github.com/jakevdp/PythonDataScienceHandbook) and [`NumPy Documentation`](https://numpy.org/doc/1.17/index.html)."
   ]
  },
  {
   "cell_type": "markdown",
   "metadata": {
    "colab_type": "text",
    "id": "pobAbXhxpnRm"
   },
   "source": [
    "## Introduction:  \n",
    "\n",
    "NumPy stands for **Numerical Python** and it is the fundamental package for scientific computing in Python. It is a package that lets you efficiently store and manipulate numerical arrays. It contains among other things:\n",
    "\n",
    "* a powerful N-dimensional array object\n",
    "* sophisticated (broadcasting) functions\n",
    "* tools for integrating C/C++ and Fortran code\n",
    "* useful linear algebra, Fourier transform, and random number capabilities\n"
   ]
  },
  {
   "cell_type": "markdown",
   "metadata": {},
   "source": [
    "In this tutorial, we will cover:\n",
    "\n",
    "* **Basics**: Different ways to create NumPy Arrays and Basics of NumPy\n",
    "* **Computation**: Computations on NumPy arrays using Universal Functions and other NumPy Routines\n",
    "* **Aggregations**: Various function used to aggregate for NumPy arrays"
   ]
  },
  {
   "cell_type": "markdown",
   "metadata": {
    "colab_type": "text",
    "id": "_0903dnnpnRn"
   },
   "source": [
    "### NumPy contains an array object that is \"fast\"\n",
    "\n",
    "\n",
    "<img src=\"https://github.com/ikhlaqsidhu/data-x/raw/master/imgsource/threefundamental.png\">\n",
    "\n",
    "\n",
    "**It stores / consists of**:\n",
    "* location of a memory block (allocated all at one time)\n",
    "* a shape (3 x 3 or 1 x 9, etc)\n",
    "* data type / size of each element\n",
    "\n",
    "The core feauture that NumPy supports is its multi-dimensional arrays. In NumPy, dimensions are called axes and the number of axes is called a rank."
   ]
  },
  {
   "cell_type": "markdown",
   "metadata": {},
   "source": [
    "### NumPy Array Anotomy\n",
    "<img src= \"https://github.com/ikhlaqsidhu/data-x/raw/master/imgsource/anatomyarray.png\">\n"
   ]
  },
  {
   "cell_type": "markdown",
   "metadata": {},
   "source": [
    "We'll start with the standard NumPy import, under the alias `np`"
   ]
  },
  {
   "cell_type": "code",
   "execution_count": 1,
   "metadata": {
    "colab": {},
    "colab_type": "code",
    "id": "COn0-kdqpnRo"
   },
   "outputs": [],
   "source": [
    "import numpy as np"
   ]
  },
  {
   "cell_type": "code",
   "execution_count": 2,
   "metadata": {
    "colab": {
     "base_uri": "https://localhost:8080/",
     "height": 35
    },
    "colab_type": "code",
    "executionInfo": {
     "elapsed": 919,
     "status": "ok",
     "timestamp": 1536166399848,
     "user": {
      "displayName": "Shubham Rao",
      "photoUrl": "//lh5.googleusercontent.com/-7vNzR2sdPLY/AAAAAAAAAAI/AAAAAAAAAq0/4KRHUM8RY9w/s50-c-k-no/photo.jpg",
      "userId": "114693381777103020132"
     },
     "user_tz": -330
    },
    "id": "5aEOPPawpnRs",
    "outputId": "97d42dca-becc-45eb-a974-4e43c5ca3c0e"
   },
   "outputs": [
    {
     "name": "stdout",
     "output_type": "stream",
     "text": [
      "1.17.4\n"
     ]
    }
   ],
   "source": [
    "print(np.__version__)"
   ]
  },
  {
   "cell_type": "markdown",
   "metadata": {
    "colab_type": "text",
    "id": "EydwFoX4pnRw"
   },
   "source": [
    "### Basics of NumPy Array"
   ]
  },
  {
   "cell_type": "markdown",
   "metadata": {},
   "source": [
    "#### 1. Creating a NumPy Array"
   ]
  },
  {
   "cell_type": "markdown",
   "metadata": {},
   "source": [
    "##### From Python List"
   ]
  },
  {
   "cell_type": "markdown",
   "metadata": {},
   "source": [
    "We use `np.array` to create a numpy array object from python list."
   ]
  },
  {
   "cell_type": "code",
   "execution_count": 3,
   "metadata": {
    "colab": {},
    "colab_type": "code",
    "id": "_hvfZRmZpnRx",
    "outputId": "935b7f78-269a-4a7e-aca7-d8e7e47a924c"
   },
   "outputs": [
    {
     "name": "stdout",
     "output_type": "stream",
     "text": [
      "[1 2 3 4]\n"
     ]
    }
   ],
   "source": [
    "# Create array from Python list\n",
    "list1 = [1, 2, 3, 4]\n",
    "data = np.array(list1)\n",
    "print(data)"
   ]
  },
  {
   "cell_type": "code",
   "execution_count": 4,
   "metadata": {
    "colab": {},
    "colab_type": "code",
    "id": "lctvElXspnR1",
    "outputId": "f16981c4-3851-4fc6-a159-d45d1217c5e6"
   },
   "outputs": [
    {
     "name": "stdout",
     "output_type": "stream",
     "text": [
      "<class 'list'>\n",
      "<class 'numpy.ndarray'>\n"
     ]
    }
   ],
   "source": [
    "# Find out object type\n",
    "print(type(list1))\n",
    "print(type(data))"
   ]
  },
  {
   "cell_type": "markdown",
   "metadata": {
    "colab": {},
    "colab_type": "code",
    "id": "XEBBotr_pq_u"
   },
   "source": [
    "Python being a dynamically typed language, Python lists can contain elements with hetarogenous data-types. But NumPy is constrained to array with which have homogenous data-types. If the data types are not homogenous, NumPy will upcast (if possible) to the most logical data type"
   ]
  },
  {
   "cell_type": "code",
   "execution_count": 5,
   "metadata": {
    "colab": {},
    "colab_type": "code",
    "id": "j9amYbD0pnSA",
    "outputId": "5135d974-2085-4c47-abd2-420cdbed54df"
   },
   "outputs": [
    {
     "name": "stdout",
     "output_type": "stream",
     "text": [
      "[1.2 2.  3.  4. ]\n",
      "float64\n"
     ]
    }
   ],
   "source": [
    "# NumPy converts to most logical data type\n",
    "data1 = np.array([1.2, 2, 3, 4])\n",
    "print(data1)\n",
    "print(data1.dtype) # all values will be converted to floats"
   ]
  },
  {
   "cell_type": "code",
   "execution_count": 6,
   "metadata": {
    "colab": {},
    "colab_type": "code",
    "id": "ZvMwNHXGpnR9",
    "outputId": "3ad01835-470a-411f-fab1-f60c8cc7624f"
   },
   "outputs": [
    {
     "name": "stdout",
     "output_type": "stream",
     "text": [
      "[3 2 3 4]\n"
     ]
    }
   ],
   "source": [
    "# Here if we store a float in an int array, the float will be up-casted to an int\n",
    "list2 = [1, 2, 3, 4]\n",
    "data2 = np.array(list2)\n",
    "data2[0] = 3.14159\n",
    "print(data2)"
   ]
  },
  {
   "cell_type": "code",
   "execution_count": 7,
   "metadata": {
    "colab": {
     "base_uri": "https://localhost:8080/",
     "height": 54
    },
    "colab_type": "code",
    "executionInfo": {
     "elapsed": 1101,
     "status": "ok",
     "timestamp": 1536166422913,
     "user": {
      "displayName": "Shubham Rao",
      "photoUrl": "//lh5.googleusercontent.com/-7vNzR2sdPLY/AAAAAAAAAAI/AAAAAAAAAq0/4KRHUM8RY9w/s50-c-k-no/photo.jpg",
      "userId": "114693381777103020132"
     },
     "user_tz": -330
    },
    "id": "QKxF5TZYpnSF",
    "outputId": "eefffa7f-bd73-4a74-8258-dc19f165a413"
   },
   "outputs": [
    {
     "name": "stdout",
     "output_type": "stream",
     "text": [
      "['1' '2' '3']\n",
      "<U1\n"
     ]
    }
   ],
   "source": [
    "# We can manually specify the datatype\n",
    "data3 = np.array([1, 2, 3], dtype=\"str\")\n",
    "print(data3)\n",
    "print(data3.dtype)"
   ]
  },
  {
   "cell_type": "markdown",
   "metadata": {},
   "source": [
    "In order to perform any mathematical operations on NumPy arrays, all the elements must be of a type that is valid to perform these mathematical operations."
   ]
  },
  {
   "cell_type": "code",
   "execution_count": 8,
   "metadata": {
    "colab": {},
    "colab_type": "code",
    "id": "ZfjZnOSrpnSU",
    "outputId": "8c34690b-e4cf-43cc-c7d7-71ecfd3c4a5d"
   },
   "outputs": [
    {
     "data": {
      "text/plain": [
       "'\\na = np.random.normal(0,1,1000)\\nb = np.arange(1000, dtype=np.int8)\\nc = np.arange(1000, dtype=np.int16)\\nc += a + b\\nprint(c)\\n'"
      ]
     },
     "execution_count": 8,
     "metadata": {},
     "output_type": "execute_result"
    }
   ],
   "source": [
    "#This will give you a TypeError\n",
    "'''\n",
    "a = np.random.normal(0,1,1000)\n",
    "b = np.arange(1000, dtype=np.int8)\n",
    "c = np.arange(1000, dtype=np.int16)\n",
    "c += a + b\n",
    "print(c)\n",
    "'''"
   ]
  },
  {
   "cell_type": "code",
   "execution_count": 9,
   "metadata": {},
   "outputs": [
    {
     "name": "stdout",
     "output_type": "stream",
     "text": [
      "[ 0  2  4  4  8 10 12 14 16 19]\n"
     ]
    }
   ],
   "source": [
    "# error is resolved by just changing the dtype of 'a' manually\n",
    "a = np.random.normal(0,1,10)\n",
    "a = a.astype(np.int16)\n",
    "b = np.arange(10, dtype=np.int16)\n",
    "c = np.arange(10, dtype=np.int16)\n",
    "c += a + b\n",
    "print(c)"
   ]
  },
  {
   "cell_type": "markdown",
   "metadata": {},
   "source": [
    "Unlike python list, we can create multi-dimensional arrays using NumPy."
   ]
  },
  {
   "cell_type": "code",
   "execution_count": 10,
   "metadata": {},
   "outputs": [
    {
     "name": "stdout",
     "output_type": "stream",
     "text": [
      "[[2 3 4]\n",
      " [4 5 6]\n",
      " [6 7 8]]\n"
     ]
    }
   ],
   "source": [
    "# nested lists result in multi-dimensional arrays\n",
    "x1 = np.array([range(i, i + 3) for i in [2, 4, 6]])\n",
    "print(x1)"
   ]
  },
  {
   "cell_type": "markdown",
   "metadata": {},
   "source": [
    "For more information and other NumPy operations based on Python list, refer to the [NumPy documentation](http://numpy.org/)."
   ]
  },
  {
   "cell_type": "markdown",
   "metadata": {},
   "source": [
    "##### Using NumPy routines"
   ]
  },
  {
   "cell_type": "markdown",
   "metadata": {},
   "source": [
    "When dealing with very large array, it is more efficient to create arrays from scratch using routines built into NumPy. Here are several examples:"
   ]
  },
  {
   "cell_type": "code",
   "execution_count": 11,
   "metadata": {},
   "outputs": [
    {
     "name": "stdout",
     "output_type": "stream",
     "text": [
      "[0 0 0 0 0 0 0 0 0 0]\n"
     ]
    }
   ],
   "source": [
    "# Create a length-10 integer array filled with zeros\n",
    "print(np.zeros(10, dtype=int))"
   ]
  },
  {
   "cell_type": "code",
   "execution_count": 12,
   "metadata": {},
   "outputs": [
    {
     "name": "stdout",
     "output_type": "stream",
     "text": [
      "[[1. 1. 1. 1. 1.]\n",
      " [1. 1. 1. 1. 1.]\n",
      " [1. 1. 1. 1. 1.]]\n"
     ]
    }
   ],
   "source": [
    "# Create a 3x5 floating-point array filled with ones\n",
    "print(np.ones((3, 5), dtype=float))"
   ]
  },
  {
   "cell_type": "code",
   "execution_count": 13,
   "metadata": {},
   "outputs": [
    {
     "name": "stdout",
     "output_type": "stream",
     "text": [
      "[[3.14 3.14 3.14 3.14 3.14]\n",
      " [3.14 3.14 3.14 3.14 3.14]\n",
      " [3.14 3.14 3.14 3.14 3.14]]\n"
     ]
    }
   ],
   "source": [
    "# Create a 3x5 array filled with 3.14\n",
    "print(np.full((3, 5), 3.14))"
   ]
  },
  {
   "cell_type": "code",
   "execution_count": 14,
   "metadata": {},
   "outputs": [
    {
     "name": "stdout",
     "output_type": "stream",
     "text": [
      "[ 0  2  4  6  8 10 12 14 16 18]\n"
     ]
    }
   ],
   "source": [
    "# Create an array filled with a linear sequence\n",
    "# Starting at 0, ending at 20, stepping by 2\n",
    "# (this is similar to the built-in range() function)\n",
    "print(np.arange(0, 20, 2))"
   ]
  },
  {
   "cell_type": "code",
   "execution_count": 15,
   "metadata": {},
   "outputs": [
    {
     "name": "stdout",
     "output_type": "stream",
     "text": [
      "[[0.63871786 0.2470147  0.17758035]\n",
      " [0.78127032 0.88110625 0.50778067]\n",
      " [0.33712322 0.0077388  0.87694999]]\n"
     ]
    }
   ],
   "source": [
    "# Create a 3x3 array of uniformly distributed\n",
    "# random values between 0 and 1\n",
    "print(np.random.random((3, 3)))"
   ]
  },
  {
   "cell_type": "code",
   "execution_count": 16,
   "metadata": {},
   "outputs": [
    {
     "name": "stdout",
     "output_type": "stream",
     "text": [
      "[[ 0.5123426  -0.55012137 -0.2685287 ]\n",
      " [-1.34533849 -0.06752169 -1.14771069]\n",
      " [ 0.38368952  0.31460891 -1.44230895]]\n"
     ]
    }
   ],
   "source": [
    "# Create a 3x3 array of normally distributed random values\n",
    "# with mean 0 and standard deviation 1\n",
    "print(np.random.normal(0, 1, (3, 3)))"
   ]
  },
  {
   "cell_type": "code",
   "execution_count": 17,
   "metadata": {},
   "outputs": [
    {
     "name": "stdout",
     "output_type": "stream",
     "text": [
      "[[0 7 1]\n",
      " [7 1 6]\n",
      " [8 3 0]]\n"
     ]
    }
   ],
   "source": [
    "# Create a 3x3 array of random integers in the interval [0, 10)\n",
    "print(np.random.randint(0, 10, (3, 3)))"
   ]
  },
  {
   "cell_type": "code",
   "execution_count": 18,
   "metadata": {},
   "outputs": [
    {
     "name": "stdout",
     "output_type": "stream",
     "text": [
      "[[1. 0. 0. 0. 0.]\n",
      " [0. 1. 0. 0. 0.]\n",
      " [0. 0. 1. 0. 0.]\n",
      " [0. 0. 0. 1. 0.]\n",
      " [0. 0. 0. 0. 1.]]\n"
     ]
    }
   ],
   "source": [
    "# Returns the identity matrix of specific squared size\n",
    "print(np.eye(5))"
   ]
  },
  {
   "cell_type": "markdown",
   "metadata": {},
   "source": [
    "You can always explore the [documentation](http://numpy.org/) for more."
   ]
  },
  {
   "cell_type": "markdown",
   "metadata": {},
   "source": [
    "#### 2. Basics of NumPy Array"
   ]
  },
  {
   "cell_type": "markdown",
   "metadata": {},
   "source": [
    "##### Attributes of NumPy Array"
   ]
  },
  {
   "cell_type": "markdown",
   "metadata": {},
   "source": [
    "Each NumPy array has the following attributes,"
   ]
  },
  {
   "cell_type": "code",
   "execution_count": 19,
   "metadata": {},
   "outputs": [
    {
     "name": "stdout",
     "output_type": "stream",
     "text": [
      "x3 ndim:  3\n",
      "x3 shape: (3, 4, 5)\n",
      "x3 size:  60\n",
      "dtype: int64\n",
      "itemsize: 8 bytes\n",
      "nbytes: 480 bytes\n"
     ]
    }
   ],
   "source": [
    "x3 = np.random.randint(10, size=(3, 4, 5))  # Create a 3-D array\n",
    "\n",
    "print(\"x3 ndim: \", x3.ndim) # np.ndim yields the number of dimensions \n",
    "print(\"x3 shape:\", x3.shape) # np.shape yields the size of each dimension\n",
    "print(\"x3 size: \", x3.size) # np.size yields the total size of the array\n",
    "print(\"dtype:\", x3.dtype) # np.dtype yields the data type of the array\n",
    "print(\"itemsize:\", x3.itemsize, \"bytes\") # np.itemsize yields the size (in bytes) of each array element\n",
    "print(\"nbytes:\", x3.nbytes, \"bytes\") # np.nbytes yields the total size (in bytes) of the array"
   ]
  },
  {
   "cell_type": "markdown",
   "metadata": {},
   "source": [
    "For more information, refer the [documentation](http://numpy.org/)."
   ]
  },
  {
   "cell_type": "markdown",
   "metadata": {
    "colab_type": "text",
    "id": "8nAlWhr8pnSc"
   },
   "source": [
    "##### Accessing elements: Slicing and Indexing"
   ]
  },
  {
   "cell_type": "markdown",
   "metadata": {},
   "source": [
    "Slicing and Indexing of NumPy Arrays is quite similar to that of Python lists"
   ]
  },
  {
   "cell_type": "code",
   "execution_count": 102,
   "metadata": {
    "colab": {},
    "colab_type": "code",
    "id": "xkrmJM2OpnSd",
    "outputId": "664d3a4f-62b7-4227-8c37-05d287b8f6e4"
   },
   "outputs": [
    {
     "name": "stdout",
     "output_type": "stream",
     "text": [
      "Original Data:\n",
      " [0 1 2 3 4 5 6 7 8 9] \n",
      "\n",
      "Indexing NumPy Array:\n",
      "   4\n",
      "   9 \n",
      "\n",
      "Slicing NumPy Array:\n",
      "   [0 1 2 3 4]\n",
      "   [9 8 7 6 5 4 3 2 1 0]\n"
     ]
    }
   ],
   "source": [
    "data = np.arange(10) # Create a 1-D array\n",
    "print(\"Original Data:\\n\", data, \"\\n\")\n",
    "\n",
    "# Indexing\n",
    "print(\"Indexing NumPy Array:\")\n",
    "print(\"  \", data[4]) # 4th element of the numpy array\n",
    "print(\"  \", data[-1], \"\\n\") # 1st element from right side of the numpy array\n",
    "\n",
    "# Slicing: To access a slice of an array 'data', we use this `data[start:stop:step]`\n",
    "print(\"Slicing NumPy Array:\")\n",
    "print(\"  \", data[:5]) # First 5 element of the numpy array\n",
    "print(\"  \", data[::-1]) # All the elements of the numpy array but in reverse order\n"
   ]
  },
  {
   "cell_type": "markdown",
   "metadata": {},
   "source": [
    "<u><i>Indexing in a multi-dimentional NumPy Array</i></u>: Multi-dimensional indices work in the same way, with multiple indices separated by commas"
   ]
  },
  {
   "cell_type": "code",
   "execution_count": 21,
   "metadata": {},
   "outputs": [
    {
     "name": "stdout",
     "output_type": "stream",
     "text": [
      "[[[2 2 1 1 2]\n",
      "  [0 8 9 9 0]\n",
      "  [6 8 1 7 4]\n",
      "  [6 4 6 5 7]]\n",
      "\n",
      " [[0 3 7 8 8]\n",
      "  [2 1 9 2 8]\n",
      "  [3 0 5 0 1]\n",
      "  [9 9 5 3 1]]\n",
      "\n",
      " [[5 3 3 9 4]\n",
      "  [5 8 4 6 3]\n",
      "  [7 8 2 1 9]\n",
      "  [0 6 7 5 8]]]\n"
     ]
    }
   ],
   "source": [
    "# Let's create a 3-D array\n",
    "x3 = np.random.randint(10, size=(3, 4, 5))\n",
    "print(x3)"
   ]
  },
  {
   "cell_type": "code",
   "execution_count": 22,
   "metadata": {},
   "outputs": [
    {
     "name": "stdout",
     "output_type": "stream",
     "text": [
      "[[0 3 7 8 8]\n",
      " [2 1 9 2 8]\n",
      " [3 0 5 0 1]\n",
      " [9 9 5 3 1]]\n"
     ]
    }
   ],
   "source": [
    "print(x3[1]) # prints the 2nd 4x5 array in the generated 3-D array"
   ]
  },
  {
   "cell_type": "code",
   "execution_count": 23,
   "metadata": {},
   "outputs": [
    {
     "name": "stdout",
     "output_type": "stream",
     "text": [
      "[3 0 5 0 1]\n"
     ]
    }
   ],
   "source": [
    "print(x3[1,2]) # prints the 3rd row of the x3[1] array"
   ]
  },
  {
   "cell_type": "code",
   "execution_count": 24,
   "metadata": {},
   "outputs": [
    {
     "name": "stdout",
     "output_type": "stream",
     "text": [
      "0\n"
     ]
    }
   ],
   "source": [
    "print(x3[1,2,3]) # prints the 4th element of the x3[1,2] array"
   ]
  },
  {
   "cell_type": "markdown",
   "metadata": {},
   "source": [
    "<u><i>Slicing in a multi-dimentional NumPy Array</i></u>: Multi-dimensional slices work in the same way, with multiple slices separated by commas"
   ]
  },
  {
   "cell_type": "code",
   "execution_count": 25,
   "metadata": {},
   "outputs": [
    {
     "name": "stdout",
     "output_type": "stream",
     "text": [
      "[[[4 5 7 7 8]\n",
      "  [2 9 3 8 9]\n",
      "  [5 7 0 1 0]\n",
      "  [8 2 0 2 8]]\n",
      "\n",
      " [[4 5 6 6 5]\n",
      "  [3 5 0 4 0]\n",
      "  [8 6 6 5 3]\n",
      "  [1 4 1 9 7]]\n",
      "\n",
      " [[2 1 7 8 1]\n",
      "  [0 9 2 6 8]\n",
      "  [8 0 4 7 1]\n",
      "  [9 4 1 0 5]]]\n"
     ]
    }
   ],
   "source": [
    "# Let's create a 3-D array\n",
    "x3 = np.random.randint(10, size=(3, 4, 5))\n",
    "print(x3)"
   ]
  },
  {
   "cell_type": "code",
   "execution_count": 87,
   "metadata": {},
   "outputs": [
    {
     "name": "stdout",
     "output_type": "stream",
     "text": [
      "[[[4 5 7 7]\n",
      "  [2 9 3 8]\n",
      "  [5 7 0 1]]\n",
      "\n",
      " [[4 5 6 6]\n",
      "  [3 5 0 4]\n",
      "  [8 6 6 5]]]\n"
     ]
    }
   ],
   "source": [
    "print(x3[:2, :3, :4])  # prints a 3x4x5 array is sliced into 2x3x4 array"
   ]
  },
  {
   "cell_type": "markdown",
   "metadata": {},
   "source": [
    "<u><i>Mask Indexing and Boolean Slicing</i></u>: These technique are used to filter and get quick inference about the nature of the dataset that we have"
   ]
  },
  {
   "cell_type": "code",
   "execution_count": 91,
   "metadata": {},
   "outputs": [
    {
     "name": "stdout",
     "output_type": "stream",
     "text": [
      "NumPy Array:\n",
      " [6 7 3 1 2 8 7 5 5 5] \n",
      "\n",
      "Masked Array:\n",
      " [ True  True False False False  True  True False False False] \n",
      "\n",
      "Interested Array:\n",
      " [6 7 8 7]\n"
     ]
    }
   ],
   "source": [
    "# Mask Indexing\n",
    "numpy_array = np.random.randint(1, 11, size=(10))\n",
    "print(\"NumPy Array:\\n\", numpy_array, \"\\n\")\n",
    "\n",
    "# Let's create a mask for the 'numpy_array' such that we can filter out the elements that are 'greater than 5'\n",
    "mask = numpy_array > 5\n",
    "print(\"Masked Array:\\n\", mask, \"\\n\")\n",
    "\n",
    "# Now let's just print the elements that follow our condition\n",
    "print(\"Interested Array:\\n\", numpy_array[mask])"
   ]
  },
  {
   "cell_type": "markdown",
   "metadata": {},
   "source": [
    "For further exploration, refer the [documentation](https://numpy.org/doc/1.17/user/basics.indexing.html) of NumPy"
   ]
  },
  {
   "cell_type": "markdown",
   "metadata": {
    "colab_type": "text",
    "id": "_lF7_W83pnSp"
   },
   "source": [
    "##### Python Lists and NumPy Arrays"
   ]
  },
  {
   "cell_type": "markdown",
   "metadata": {},
   "source": [
    "NumPy utilizes efficient pointers to a location in memory and it will store the full array. Lists on the other hand are pointers to many different objects in memory."
   ]
  },
  {
   "cell_type": "markdown",
   "metadata": {},
   "source": [
    "<u><i>Subarray (default returns)</i></u>: Slicing returns a view for a NumPy Array, where as Python Lists returns a copy the list"
   ]
  },
  {
   "cell_type": "code",
   "execution_count": 27,
   "metadata": {
    "colab": {},
    "colab_type": "code",
    "id": "ZYjzWMhOpnSq",
    "outputId": "e0b4f769-796d-45fb-c494-191decd1c3a2"
   },
   "outputs": [
    {
     "name": "stdout",
     "output_type": "stream",
     "text": [
      "Pre-slicing NumPy Array:  [5 5 8 5 6 4 0 7 0 2]\n",
      "Slice of NumPy Array:  [5 5 8]\n",
      "\n",
      "Pre-slicing Python List:  [2, 8, 5, 3, 9, 0, 6, 7, 1, 4]\n",
      "Slice of Python List:  [2, 8, 5]\n"
     ]
    }
   ],
   "source": [
    "# Let's create a NumPy Array and slice it\n",
    "data_numpy = np.random.randint(10, size=(10))\n",
    "print(\"Pre-slicing NumPy Array: \", data_numpy)\n",
    "slicing_numpy = data_numpy[0:3]\n",
    "print(\"Slice of NumPy Array: \", slicing_numpy)\n",
    "\n",
    "# Let's create a Python List and slice it\n",
    "import random\n",
    "data_list = random.sample(range(0, 10), 10)\n",
    "print(\"\\nPre-slicing Python List: \", data_list)\n",
    "slicing_list = data_list[0:3]\n",
    "print(\"Slice of Python List: \", slicing_list)"
   ]
  },
  {
   "cell_type": "code",
   "execution_count": 28,
   "metadata": {
    "colab": {},
    "colab_type": "code",
    "id": "0MKQXKtgpnSy",
    "outputId": "92a7cfc2-d420-4fea-b1af-d46f70efc531"
   },
   "outputs": [
    {
     "name": "stdout",
     "output_type": "stream",
     "text": [
      "Slice of NumPy Array:  [-1  5  8]\n",
      "Slice of Python List:  [-1, 8, 5]\n"
     ]
    }
   ],
   "source": [
    "# Let's change the first element of both array and list\n",
    "slicing_numpy[0] = -1\n",
    "print(\"Slice of NumPy Array: \", slicing_numpy)\n",
    "slicing_list[0] = -1\n",
    "print(\"Slice of Python List: \", slicing_list)"
   ]
  },
  {
   "cell_type": "code",
   "execution_count": 29,
   "metadata": {
    "colab": {},
    "colab_type": "code",
    "id": "wKrkBwF2pnS2",
    "outputId": "0774c345-7ace-4573-d604-89b26fdc506f"
   },
   "outputs": [
    {
     "name": "stdout",
     "output_type": "stream",
     "text": [
      "Post-slicing NumPy array:  [-1  5  8  5  6  4  0  7  0  2]\n",
      "Post-slicing Python list:  [2, 8, 5, 3, 9, 0, 6, 7, 1, 4]\n"
     ]
    }
   ],
   "source": [
    "print(\"Post-slicing NumPy array: \", data_numpy) # has changed\n",
    "print(\"Post-slicing Python list: \", data_list) # has not changed"
   ]
  },
  {
   "cell_type": "markdown",
   "metadata": {},
   "source": [
    "<u><i>Subarray (custom)</i></u>: Slicing of NumPy Array should create a copy of the array just like Python Lists"
   ]
  },
  {
   "cell_type": "code",
   "execution_count": 30,
   "metadata": {
    "colab": {},
    "colab_type": "code",
    "id": "FmLdcrTXpnS5",
    "outputId": "2432ceba-3501-4b9f-fa06-44fafbe7622a"
   },
   "outputs": [
    {
     "name": "stdout",
     "output_type": "stream",
     "text": [
      "Pre-slicing NumPy Array:  [7 8 4 8 0 7 4 0 0 6]\n",
      "Slice of NumPy Array:  [7 8 4]\n"
     ]
    }
   ],
   "source": [
    "# Creating copies of the array instead of views\n",
    "data_numpy = np.random.randint(10, size=(10))\n",
    "print(\"Pre-slicing NumPy Array: \", data_numpy)\n",
    "slicing_numpy_copy = data_numpy[0:3].copy()\n",
    "print(\"Slice of NumPy Array: \", slicing_numpy_copy)"
   ]
  },
  {
   "cell_type": "code",
   "execution_count": 31,
   "metadata": {
    "colab": {},
    "colab_type": "code",
    "id": "wfIdJgLApnS7",
    "outputId": "e6163bd6-063f-426d-b875-dd78a62d3fca"
   },
   "outputs": [
    {
     "name": "stdout",
     "output_type": "stream",
     "text": [
      "Post-slicing NumPy Array:  [-1  8  4]\n",
      "Pre-slicing NumPy Array:  [7 8 4 8 0 7 4 0 0 6]\n"
     ]
    }
   ],
   "source": [
    "# Let's chage the first element of our numpy array and observe\n",
    "slicing_numpy_copy[0] = -1\n",
    "print(\"Post-slicing NumPy Array: \", slicing_numpy_copy)\n",
    "print(\"Pre-slicing NumPy Array: \", data_numpy) # now it is not a view any more but we created a copy of data_numpy"
   ]
  },
  {
   "cell_type": "markdown",
   "metadata": {
    "colab_type": "text",
    "id": "Jr4uvknXpnTW"
   },
   "source": [
    "Question - Making train and test sets: Create two arrays from `original_data`, one with 2/3 and the other with 1/3 of the elements. \n",
    "\n",
    "Note that you don't want to mess up your original data set when you (later) make transformations on the train / test set."
   ]
  },
  {
   "cell_type": "code",
   "execution_count": 32,
   "metadata": {
    "colab": {},
    "colab_type": "code",
    "id": "GAmuRuv2pnTY"
   },
   "outputs": [],
   "source": [
    "original_data = np.arange(1000)\n",
    "np.random.shuffle(original_data) # inplace\n",
    "\n",
    "#input answer"
   ]
  },
  {
   "cell_type": "markdown",
   "metadata": {
    "colab_type": "text",
    "id": "dC5uIhS-pnTv"
   },
   "source": [
    "### Computation "
   ]
  },
  {
   "cell_type": "markdown",
   "metadata": {},
   "source": [
    "#### 1. Universal Function\n",
    "A universal function (or ufunc) that is applied on an `ndarray` in an element-by-element fashion. That is, a ufunc is a “vectorized” wrapper for a function that takes a fixed number of specific inputs and produces a fixed number of specific outputs."
   ]
  },
  {
   "cell_type": "code",
   "execution_count": 33,
   "metadata": {
    "colab": {},
    "colab_type": "code",
    "id": "OXKDS1blpnTv",
    "outputId": "c2bce9ef-f972-4fa6-8202-a615c846130d"
   },
   "outputs": [
    {
     "name": "stdout",
     "output_type": "stream",
     "text": [
      "Array 'x' =  [ 1 10  9 10 10  3  6  8  6  5]\n",
      "Array 'y' =  [5 1 1 2 9 8 2 9 7 7]\n"
     ]
    }
   ],
   "source": [
    "# Let's define two NumPy Arrays\n",
    "x = np.random.randint(1, 11, size=(10))\n",
    "y = np.random.randint(1, 11, size=(10))\n",
    "print (\"Array 'x' = \", x)\n",
    "print (\"Array 'y' = \", y)"
   ]
  },
  {
   "cell_type": "code",
   "execution_count": 34,
   "metadata": {
    "colab": {},
    "colab_type": "code",
    "id": "sMmkVzCnpnTy",
    "outputId": "966e28a8-1034-4fe2-e17c-1c61f7ec5fbf"
   },
   "outputs": [
    {
     "name": "stdout",
     "output_type": "stream",
     "text": [
      "[ 6 11 10 12 19 11  8 17 13 12]\n",
      "[-4  9  8  8  1 -5  4 -1 -1 -2]\n",
      "[ 5 10  9 20 90 24 12 72 42 35]\n",
      "[ 0.2        10.          9.          5.          1.11111111  0.375\n",
      "  3.          0.88888889  0.85714286  0.71428571]\n",
      "[ 0 10  9  5  1  0  3  0  0  0]\n",
      "[1 0 0 0 1 3 0 8 6 5]\n"
     ]
    }
   ],
   "source": [
    "# Let's perform some arithmetic on these arrays\n",
    "print(x + y)\n",
    "print(x - y)\n",
    "print(x * y)\n",
    "print(x / y)\n",
    "print(x // y)  # floor division\n",
    "print(x % y)"
   ]
  },
  {
   "cell_type": "markdown",
   "metadata": {},
   "source": [
    "Each of these arithmetic operations are simply convenient wrappers around specific functions built into NumPy, for example, the `+` operator is a wrapper for the `add` function"
   ]
  },
  {
   "cell_type": "code",
   "execution_count": 35,
   "metadata": {
    "colab": {},
    "colab_type": "code",
    "id": "tk6s0qqopnT7",
    "outputId": "d3202563-8765-41f9-a64e-867d2da99448"
   },
   "outputs": [
    {
     "name": "stdout",
     "output_type": "stream",
     "text": [
      "[ 6 11 10 12 19 11  8 17 13 12]\n",
      "[-4  9  8  8  1 -5  4 -1 -1 -2]\n",
      "[ 5 10  9 20 90 24 12 72 42 35]\n",
      "[1 0 0 0 1 3 0 8 6 5]\n"
     ]
    }
   ],
   "source": [
    "print(np.add(x, y))\n",
    "print(np.subtract(x, y))\n",
    "print(np.multiply(x, y))\n",
    "print(np.mod(x, y))"
   ]
  },
  {
   "cell_type": "markdown",
   "metadata": {
    "colab": {},
    "colab_type": "code",
    "id": "jHhRzVT7pnUA",
    "outputId": "7818293f-8297-4e3a-f7f6-996956eed422"
   },
   "source": [
    "The following table lists some of the `ufunc` implemented in NumPy:\n",
    "\n",
    "\n",
    "| Universal Functions\t  | Operator (if any)  | Description                                                    |\n",
    "|:-----------------------:|:------------------:|:--------------------------------------------------------------:|\n",
    "|``np.add``               | ``+``              |Addition (e.g., ``[10  6  8] + [3 10  6] = [13 16 14]``)        |\n",
    "|``np.subtract``          | ``-``              |Subtraction (e.g., ``[10  6  8] - [3 10  6] = [ 7 -4  2]``)     |\n",
    "|``np.negative``          | ``-``              |Unary negation (e.g., ``[-10  -6  -8]``)                        |\n",
    "|``np.multiply``          | ``*``              |Multiplication (e.g., ``[10  6  8] * [3 10  6] = [30 60 48]``)  |\n",
    "|``np.divide``            | ``/``              |Division (e.g., ``[10  6  8] / [3 10  6] = [3.33 0.6 1.33]``)   |\n",
    "|``np.floor_divide``      | ``//``             |Floor division (e.g., ``[10  6  8] // [3 10  6] = [3 0 1]``)    |\n",
    "|``np.mod``               | ``%``              |Modulus/remainder (e.g., ``[10  6  8] % [3 10  6] = [1 6 2]``)  |\n",
    "|``np.log``               |                    |Natural logarithm, element-wise                                 |\n",
    "|``np.log2``              |                    |Base-2 logarithm of x                                           |\n"
   ]
  },
  {
   "cell_type": "markdown",
   "metadata": {},
   "source": [
    "More information on universal functions (including the full list of available functions) can found in the NumPy [documentation](https://numpy.org/doc/1.17/reference/ufuncs.html)."
   ]
  },
  {
   "cell_type": "markdown",
   "metadata": {
    "colab_type": "text",
    "id": "3N53VGYrpnWE"
   },
   "source": [
    "Question: Ax = b. Solve for x. Note, you should use numpy's pseudoinverse function while aligning A and b's dimensions. "
   ]
  },
  {
   "cell_type": "code",
   "execution_count": 36,
   "metadata": {
    "colab": {},
    "colab_type": "code",
    "id": "Tnbo5of_pnWE",
    "outputId": "303b9dac-c1ed-4a82-e554-e6c66ae64376"
   },
   "outputs": [
    {
     "name": "stdout",
     "output_type": "stream",
     "text": [
      "[[1 2]\n",
      " [3 4]\n",
      " [5 6]] \n",
      "\n",
      "[[7]\n",
      " [8]\n",
      " [9]]\n"
     ]
    }
   ],
   "source": [
    "A = np.array([[1, 2, 3, 4, 5, 6]]).reshape(3,2)\n",
    "b = np.array([7,8,9]).reshape(3,-1)\n",
    "print(A, \"\\n\")\n",
    "print(b)\n",
    "\n",
    "# input answer\n",
    "# print(x)"
   ]
  },
  {
   "cell_type": "markdown",
   "metadata": {},
   "source": [
    "#### 2. NumPy Routines\n",
    "\n",
    "NumPy being a the scientific computing package, it has several in-build routines/functions to aid mathematical and scientific computing. Some of the common routines used in Machine Learning are discussed below."
   ]
  },
  {
   "cell_type": "code",
   "execution_count": 86,
   "metadata": {},
   "outputs": [
    {
     "name": "stdout",
     "output_type": "stream",
     "text": [
      "'a':\n",
      " [[[ 7  7]\n",
      "  [ 6 10]\n",
      "  [ 4  9]]\n",
      "\n",
      " [[ 7  1]\n",
      "  [10  2]\n",
      "  [ 8  7]]\n",
      "\n",
      " [[ 9 10]\n",
      "  [ 9  6]\n",
      "  [ 4  7]]] \n",
      "\n",
      "'b':\n",
      " [[[ 9  8  9]\n",
      "  [ 2  9 10]\n",
      "  [ 9  9  7]]\n",
      "\n",
      " [[ 7  4  3]\n",
      "  [ 8  9  1]\n",
      "  [ 8  4 10]]\n",
      "\n",
      " [[ 7  8  4]\n",
      "  [ 3  6  1]\n",
      "  [ 7 10  3]]] \n",
      "\n",
      "'c':\n",
      " [[[1 1]\n",
      "  [1 1]\n",
      "  [1 1]]] \n",
      "\n",
      "'d':\n",
      " [[[1 1]]\n",
      "\n",
      " [[1 1]]\n",
      "\n",
      " [[1 1]]] \n",
      "\n",
      "Concatenate:\n",
      " [[[ 7  7  9  8  9]\n",
      "  [ 6 10  2  9 10]\n",
      "  [ 4  9  9  9  7]]\n",
      "\n",
      " [[ 7  1  7  4  3]\n",
      "  [10  2  8  9  1]\n",
      "  [ 8  7  8  4 10]]\n",
      "\n",
      " [[ 9 10  7  8  4]\n",
      "  [ 9  6  3  6  1]\n",
      "  [ 4  7  7 10  3]]] \n",
      "\n",
      "Vertical Append:\n",
      " [[[ 7  7]\n",
      "  [ 6 10]\n",
      "  [ 4  9]]\n",
      "\n",
      " [[ 7  1]\n",
      "  [10  2]\n",
      "  [ 8  7]]\n",
      "\n",
      " [[ 9 10]\n",
      "  [ 9  6]\n",
      "  [ 4  7]]\n",
      "\n",
      " [[ 1  1]\n",
      "  [ 1  1]\n",
      "  [ 1  1]]] \n",
      "\n",
      "Horizontal Append:\n",
      " [[[ 7  7]\n",
      "  [ 6 10]\n",
      "  [ 4  9]\n",
      "  [ 1  1]]\n",
      "\n",
      " [[ 7  1]\n",
      "  [10  2]\n",
      "  [ 8  7]\n",
      "  [ 1  1]]\n",
      "\n",
      " [[ 9 10]\n",
      "  [ 9  6]\n",
      "  [ 4  7]\n",
      "  [ 1  1]]]\n"
     ]
    }
   ],
   "source": [
    "# NumPy allows use to concatenate or append different NumPy Arrays\n",
    "a = np.random.randint(1, 11, size=(3, 3, 2))\n",
    "b = np.random.randint(1, 11, size=(3, 3, 3))\n",
    "c = np.ones((1, 3, 2), dtype=\"int32\")\n",
    "d = np.ones((3, 1, 2), dtype=\"int32\")\n",
    "\n",
    "print(\"'a':\\n\", a, \"\\n\")\n",
    "print(\"'b':\\n\", b, \"\\n\")\n",
    "print(\"'c':\\n\", c, \"\\n\")\n",
    "print(\"'d':\\n\", d, \"\\n\")\n",
    "\n",
    "# Let's concatenate 'a' and 'b' together alond axis=2\n",
    "print(\"Concatenate:\\n\", np.concatenate((a, b), axis=2), \"\\n\")\n",
    "\n",
    "# Let's append 'c' to 'a' vertically\n",
    "print(\"Vertical Append:\\n\", np.vstack((a, c)), \"\\n\") # try appending 'd' to 'a' vertically\n",
    "\n",
    "# Let's append 'd' to 'a' horizontally\n",
    "print(\"Horizontal Append:\\n\", np.hstack((a, d))) # try appending 'c' to 'a' horizontally"
   ]
  },
  {
   "cell_type": "code",
   "execution_count": 94,
   "metadata": {},
   "outputs": [
    {
     "name": "stdout",
     "output_type": "stream",
     "text": [
      "Original Array Shape:  (9,)\n",
      "Original Array:  [7 7 3 2 8 6 1 8 6] \n",
      "\n",
      "New Array Shape:  (3, 3)\n",
      "New Array:\n",
      " [[7 7 3]\n",
      " [2 8 6]\n",
      " [1 8 6]]\n"
     ]
    }
   ],
   "source": [
    "# Let's create a random NumPy Array\n",
    "numpy_array = np.random.randint(1, 11, size=(9))\n",
    "print(\"Original Array Shape: \", numpy_array.shape)\n",
    "print(\"Original Array: \", numpy_array, \"\\n\")\n",
    "\n",
    "# Using np.reshape() routine to reshape an array\n",
    "numpy_array = numpy_array.reshape(3,3)\n",
    "print(\"New Array Shape: \", numpy_array.shape)\n",
    "print(\"New Array:\\n\", numpy_array)"
   ]
  },
  {
   "cell_type": "code",
   "execution_count": 39,
   "metadata": {},
   "outputs": [
    {
     "name": "stdout",
     "output_type": "stream",
     "text": [
      "Original Array Shape:  (4, 6)\n",
      "Original Array:\n",
      " [[ 9  4  6  6  7  4]\n",
      " [ 9  7  1 10  4  4]\n",
      " [ 2  9  9  6 10  7]\n",
      " [ 5  7  2 10  7  8]] \n",
      "\n",
      "Flattened Array Shape:  (24,)\n",
      "Flattened Array:\n",
      " [ 9  4  6  6  7  4  9  7  1 10  4  4  2  9  9  6 10  7  5  7  2 10  7  8]\n"
     ]
    }
   ],
   "source": [
    "# We can also flatten matrices using ravel()\n",
    "numpy_array = np.random.randint(1, 11, size=(24))\n",
    "numpy_array = numpy_array.reshape(4,6)\n",
    "print(\"Original Array Shape: \", numpy_array.shape)\n",
    "print(\"Original Array:\\n\", numpy_array, \"\\n\")\n",
    "\n",
    "# Flattening an unflattened array\n",
    "numpy_array = numpy_array.ravel()\n",
    "print(\"Flattened Array Shape: \", numpy_array.shape)\n",
    "print (\"Flattened Array:\\n\", numpy_array)"
   ]
  },
  {
   "cell_type": "code",
   "execution_count": 97,
   "metadata": {},
   "outputs": [
    {
     "name": "stdout",
     "output_type": "stream",
     "text": [
      "[[ 6  8  4 10]\n",
      " [ 9  4  7  4]\n",
      " [ 6  3  7  7]] \n",
      "\n",
      "Sum of all Elements: 75\n",
      "Smallest Element: 3\n",
      "Highest Element: 10\n",
      "Cumulative Sum of Elements: [ 6 14 18 28 37 41 48 52 58 61 68 75]\n",
      "Column-wise Sum: [21 15 18 21]\n",
      "Row-wise Sum: [28 24 23]\n"
     ]
    }
   ],
   "source": [
    "# Other useful routines for data analysis using NumPy\n",
    "numpy_array = np.random.randint(1, 11, size=(3, 4))\n",
    "\n",
    "print(numpy_array, \"\\n\")\n",
    "print (\"Sum of all Elements:\", numpy_array.sum())\n",
    "print(\"Smallest Element:\", numpy_array.min())\n",
    "print(\"Highest Element:\", numpy_array.max())\n",
    "print(\"Cumulative Sum of Elements:\", numpy_array.cumsum())\n",
    "print (\"Column-wise Sum:\", numpy_array.sum(axis=0))\n",
    "print (\"Row-wise Sum:\",numpy_array.sum(axis=1))"
   ]
  },
  {
   "cell_type": "markdown",
   "metadata": {},
   "source": [
    "You can do matrix multiplication and matrix manipulations"
   ]
  },
  {
   "cell_type": "code",
   "execution_count": 60,
   "metadata": {},
   "outputs": [
    {
     "name": "stdout",
     "output_type": "stream",
     "text": [
      "'a':\n",
      " [[4 1 7]\n",
      " [5 8 9]\n",
      " [9 9 9]] \n",
      "\n",
      "'b':\n",
      " [[10  5  5]\n",
      " [ 2  9  9]\n",
      " [ 3 10  2]] \n",
      "\n",
      "Dot Product of 'a' and 'b':\n",
      " [[ 63  99  43]\n",
      " [ 93 187 115]\n",
      " [135 216 144]]\n"
     ]
    }
   ],
   "source": [
    "# Dot products of two \"arrays\"\n",
    "a = np.random.randint(1, 11, size=(3, 3))\n",
    "b = np.random.randint(1, 11, size=(3, 3))\n",
    "\n",
    "print(\"'a':\\n\", a, \"\\n\")\n",
    "print(\"'b':\\n\", b, \"\\n\")\n",
    "\n",
    "print(\"Dot Product of 'a' and 'b' (arrays):\\n\", np.dot(a, b))"
   ]
  },
  {
   "cell_type": "code",
   "execution_count": 68,
   "metadata": {},
   "outputs": [
    {
     "name": "stdout",
     "output_type": "stream",
     "text": [
      "'a':\n",
      " [[7 3 2 3]\n",
      " [4 3 2 2]\n",
      " [1 7 5 3]] \n",
      "\n",
      "'b':\n",
      " [[ 6  4]\n",
      " [ 7  7]\n",
      " [10  9]\n",
      " [ 7  3]] \n",
      "\n",
      "Matrix Product of 'a' and 'b' (arrays):\n",
      " [[104  76]\n",
      " [ 79  61]\n",
      " [126 107]]\n"
     ]
    }
   ],
   "source": [
    "# Matrix product of two \"arrays\"\n",
    "a = np.random.randint(1, 11, size=(3, 4))\n",
    "b = np.random.randint(1, 11, size=(4, 2))\n",
    "\n",
    "print(\"'a':\\n\", a, \"\\n\")\n",
    "print(\"'b':\\n\", b, \"\\n\")\n",
    "\n",
    "print(\"Matrix Product of 'a' and 'b' (arrays):\\n\", np.matmul(a, b))"
   ]
  },
  {
   "cell_type": "code",
   "execution_count": 72,
   "metadata": {},
   "outputs": [
    {
     "name": "stdout",
     "output_type": "stream",
     "text": [
      "'a':\n",
      " [[ 8  1  9 10]\n",
      " [10 10  2  4]\n",
      " [ 5  6  2  3]] \n",
      "\n",
      "'a' Transpose (using 'array.T'):\n",
      " [[ 8 10  5]\n",
      " [ 1 10  6]\n",
      " [ 9  2  2]\n",
      " [10  4  3]] \n",
      "\n",
      "'a' Transpose (using 'np.transpose()''):\n",
      " [[ 8 10  5]\n",
      " [ 1 10  6]\n",
      " [ 9  2  2]\n",
      " [10  4  3]] \n",
      "\n"
     ]
    }
   ],
   "source": [
    "# Taking the transpose of an array Matrix\n",
    "a = np.random.randint(1, 11, size=(3, 4))\n",
    "print(\"'a':\\n\", a, \"\\n\")\n",
    "\n",
    "# You can take transpose in two ways\n",
    "print(\"'a' Transpose (using 'array.T'):\\n\", a.T, \"\\n\")\n",
    "print(\"'a' Transpose (using 'np.transpose()''):\\n\", np.transpose(a), \"\\n\")"
   ]
  },
  {
   "cell_type": "markdown",
   "metadata": {},
   "source": [
    "There so many more routines available in this package. To explore all the NumPy routines, refer the [documentation](https://numpy.org/doc/1.17/reference/routines.html)."
   ]
  }
 ],
 "metadata": {
  "colab": {
   "name": "Numpy Intro.ipynb",
   "provenance": [],
   "version": "0.3.2"
  },
  "kernelspec": {
   "display_name": "Python 3",
   "language": "python",
   "name": "python3"
  },
  "language_info": {
   "codemirror_mode": {
    "name": "ipython",
    "version": 3
   },
   "file_extension": ".py",
   "mimetype": "text/x-python",
   "name": "python",
   "nbconvert_exporter": "python",
   "pygments_lexer": "ipython3",
   "version": "3.7.5"
  }
 },
 "nbformat": 4,
 "nbformat_minor": 1
}
