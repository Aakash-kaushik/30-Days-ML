{
 "cells": [
  {
   "cell_type": "markdown",
   "metadata": {},
   "source": [
    "# Week 1 Assignment\n",
    "\n",
    "[<img src=\"./assets/nbx.jpeg\" alt=\"NimbleBox.ai logo\" width=\"600\"/>](https://www.nimblebox.ai)"
   ]
  },
  {
   "cell_type": "markdown",
   "metadata": {},
   "source": [
    "# Description of the assignment in this notebook and mark question as question or something"
   ]
  },
  {
   "cell_type": "markdown",
   "metadata": {},
   "source": [
    "You are given a file with different data points, you have to gather inference from those data points. For example,\n",
    "\n",
    "This file content:\n",
    "\n",
    "    something\n",
    "    1\n",
    "    7\n",
    "    somEThing\n",
    "    N/A\n",
    "    2\n",
    "    wassup\n",
    "    woop\n",
    "    \n",
    "    woop\n",
    "    something\n",
    "    WoOP\n",
    "\n",
    "Should yield this report:\n",
    "\n",
    "    missing values: 1\n",
    "    highest number: 7.0\n",
    "    most common words: something, woop\n",
    "    occurrences of most common: 3\n",
    "    numbers: [1.0, 7.0, 2.0]\n",
    "    words: ['something', 'something', 'n/a', 'wassup', 'woop', 'woop', 'something', 'woop']"
   ]
  },
  {
   "cell_type": "code",
   "execution_count": null,
   "metadata": {},
   "outputs": [],
   "source": [
    "def read_file(path):\n",
    "    \"\"\"\n",
    "    Reads and returns the data from the file specified as argument.\n",
    "\n",
    "    :param path: path to the file to be read.\n",
    "    :return: a tuple containing\n",
    "    1. the number of empty lines (int)\n",
    "    2. numeric values (list of floats)\n",
    "    3. non-numeric values (list of strings)\n",
    "    \"\"\"\n",
    "    # Your answer goes here\n",
    "    pass\n",
    "\n",
    "def make_report(missing_values, numbers, words):\n",
    "    \"\"\"\n",
    "    Creates and a report based on data given as arguments.\n",
    "\n",
    "    :param missing_values: number of empty lines (int)\n",
    "    :param numbers: numeric values (list of floats)\n",
    "    :param words: non numeric values (list of strings)\n",
    "    :return: the generated report (string)\n",
    "    \"\"\"\n",
    "    max_value = get_max_value(numbers)\n",
    "    lower_case_words = words_to_lowercase(words)\n",
    "    most_common_info = get_most_common_words(lower_case_words)\n",
    "    most_common_words = most_common_info[0]\n",
    "    most_common_count = most_common_info[1]\n",
    "\n",
    "    most_common_str = ''\n",
    "    for idx in range(len(most_common_words)):\n",
    "        most_common_str += most_common_words[idx] + ', '\n",
    "    # remove the last comma and space\n",
    "    most_common_str = most_common_str[0:len(most_common_str) - 2]\n",
    "\n",
    "    report = ('missing values: {}\\n'\n",
    "              'highest number: {}\\n'\n",
    "              'most common words: {}\\n'\n",
    "              'occurrences of most common: {}\\n'\n",
    "              'numbers: {}\\n'\n",
    "              'words: {}').format(missing_values, max_value, most_common_str,\n",
    "                                  most_common_count, numbers, lower_case_words)\n",
    "\n",
    "    return report\n",
    "\n",
    "\n",
    "def get_max_value(numbers):\n",
    "    \"\"\"\n",
    "    Returns the greatest value of the list given as argument.\n",
    "\n",
    "    :param numbers: numbers (list of numeric values)\n",
    "    :return: greatest value of numbers, None if numbers is an empty list\n",
    "    \"\"\"\n",
    "    # Your answer goes here\n",
    "    return max_value\n",
    "\n",
    "\n",
    "def words_to_lowercase(words):\n",
    "    \"\"\"\n",
    "    :param words: words to be converted (list of strings)\n",
    "    :return: lowercased words (list of strings)\n",
    "    \"\"\"\n",
    "    # Your answer goes here\n",
    "    return lowercased\n",
    "\n",
    "\n",
    "def get_most_common_words(words):\n",
    "    \"\"\"\n",
    "    Finds the most common words in a list of words.\n",
    "    If there are multiple different words with the same amount of occurrences,\n",
    "    they are all included in the return value sorted alphabetically.\n",
    "    In addition to returning the most common words, the return value\n",
    "    includes also the count of occurrences of the most common words.\n",
    "\n",
    "    :param words: list of words (list of strings)\n",
    "    :return: a tuple containing:\n",
    "    1. most common words (list of strings)\n",
    "    2. the count of occurrences of the most common words (int)\n",
    "    \"\"\"\n",
    "    # Your answer goes here\n",
    "    return most_common_words, max_count"
   ]
  },
  {
   "cell_type": "code",
   "execution_count": null,
   "metadata": {},
   "outputs": [],
   "source": [
    "# Don't delete this function\n",
    "# Driver function for your functions\n",
    "\n",
    "def get_report(path):\n",
    "    \"\"\"\n",
    "    Creates a report of the file specified as argument.\n",
    "\n",
    "    :param path: path to file from which the report should be created (string)\n",
    "    :return: the report (string)\n",
    "    \"\"\"\n",
    "    data = read_file(path)\n",
    "    missing_count = data[0]\n",
    "    numbers = data[1]\n",
    "    words = data[2]\n",
    "    report = make_report(missing_count, numbers, words)\n",
    "    return report"
   ]
  },
  {
   "cell_type": "code",
   "execution_count": null,
   "metadata": {},
   "outputs": [],
   "source": [
    "def check_project():\n",
    "    path = './assets/project_1_input_file.txt'\n",
    "    out=get_report(path)\n",
    "    print(out)\n",
    "    return out"
   ]
  },
  {
   "cell_type": "markdown",
   "metadata": {},
   "source": [
    "# Send the report for grading."
   ]
  },
  {
   "cell_type": "markdown",
   "metadata": {},
   "source": [
    "# Self note \n",
    "\n",
    "# Load a pandas df drop some textual values(add some more stuff)-> Convert into numpy array and do some computation like normalization or something -> visualize different stuff(different type of plots). "
   ]
  },
  {
   "cell_type": "markdown",
   "metadata": {},
   "source": [
    "In this assignemnt you are going to manipulate a pandas data frame which is loaded through a csv file. "
   ]
  },
  {
   "cell_type": "code",
   "execution_count": null,
   "metadata": {},
   "outputs": [],
   "source": [
    "import pandas as pd\n",
    "\n",
    "# Loading the data frame from the csv file\n",
    "dataframe = pd.read_csv(\"assets/data.csv\")\n",
    "dataframe.head()"
   ]
  },
  {
   "cell_type": "markdown",
   "metadata": {},
   "source": [
    "Now you are going to write a function named processing to perform some series of operations mentioned below. The complete dataframe loaded above is passed to the function and you have to return the processed dataframe.\n",
    "\n",
    "1. Drop the column named country from the dataframe.\n",
    "2. In the development column change the values of \"Developed\" to 1 and \"Developing\" to 2.\n",
    "3. In the membership column change the values of \"Member\" to boolean True and \"Not Member\" to boolean False.\n",
    "4. In the currency column change the values of \"Euro\" to 2 and \"National Currency\" to 1.\n",
    "5. Normalize the column women entrepreneurship index by subtracting the mean and dividing by the standard deviation. You can use the mean() and std() functions that come with pandas. "
   ]
  },
  {
   "cell_type": "code",
   "execution_count": null,
   "metadata": {},
   "outputs": [],
   "source": [
    "def pandas_processing(df):\n",
    "    \"\"\"\n",
    "    Function to manipulate \n",
    "    DataFrame as given above. \n",
    "    \"\"\"\n",
    "    \n",
    "    # Your answer goes here.\n",
    "    \n",
    "    # Step 1\n",
    "    # Drop the coloumn.\n",
    "    df = \n",
    "    \n",
    "    # Step 2\n",
    "    # Change the value in columns.\n",
    "    df = \n",
    "    df =\n",
    "    \n",
    "    # Step 3\n",
    "    # Change the value in columns.\n",
    "    df =\n",
    "    df =\n",
    "    \n",
    "    # Step 4\n",
    "    # Change the value in columns.\n",
    "    df =\n",
    "    df =\n",
    "    \n",
    "    # Step 5\n",
    "    # Normalize the columns.\n",
    "    df = \n",
    "    \n",
    "    # Your answer ends here.\n",
    "    \n",
    "    return df"
   ]
  },
  {
   "cell_type": "markdown",
   "metadata": {},
   "source": [
    "# Send the complete data frame here for grading."
   ]
  },
  {
   "cell_type": "markdown",
   "metadata": {},
   "source": [
    "In this Assignment we are going to use the function named processing that you wrote before and then drop some columns from the same csv file after which you are going to convert the dataframe into a numpy object on which you are goint to do further processing."
   ]
  },
  {
   "cell_type": "code",
   "execution_count": null,
   "metadata": {},
   "outputs": [],
   "source": [
    "import numpy as np\n",
    "\n",
    "data = pd.read_csv(\"assets/data.csv\")\n",
    "\n",
    "# Using the processing function you wrote before.\n",
    "data = pandas_processing(data)\n",
    "\n",
    "# Dropping the comulns country, development, membership, currency\n",
    "# and women entrepreneurship index.\n",
    "data = data.drop(['country','development','membership','currency','women entrepreneurship index'], axis=1)\n",
    "\n",
    "# Type of data before converting to numpy object.\n",
    "print(\"Data type before using to_numpy(): \" + str(type(data)))\n",
    "\n",
    "# Converting to numpy object.\n",
    "data = data.to_numpy()\n",
    "\n",
    "# Type of data after converting to numpy object.\n",
    "print(\"Data type after using to_numpy(): \" + str(type(data)))\n",
    "print(\"Shape of the Numpy array: \" + str(data.shape))\n",
    "print(data.sum())"
   ]
  },
  {
   "cell_type": "markdown",
   "metadata": {},
   "source": [
    "After you have converted the DataFrame to a numpy array you have a matrix of the shape [51,3] on which you will be doing the following steps in the numpy_processing function.\n",
    "\n",
    "1. Use numpy array slicing to keep only the second and third row, So your matrix shape will become [51,2].\n",
    "2. Normalize the array by subtracting by the mean and dividing by the standard deviation. Use mean() and std() function built into numpy.\n",
    "3. Finally your function should return the sum of the whole matrix, smallest element, highest element, row-wise sum and the numpy array."
   ]
  },
  {
   "cell_type": "code",
   "execution_count": null,
   "metadata": {},
   "outputs": [],
   "source": [
    "def numpy_processing(data):\n",
    "    \"\"\"\n",
    "    Function to manipulate the \n",
    "    numpy array as given above. \n",
    "    \"\"\"\n",
    "    # Your answer goes here.\n",
    "    \n",
    "    # Step 1 \n",
    "    # Slice the numpy array according to the above steps.\n",
    "    data = \n",
    "    \n",
    "    # Step 2 \n",
    "    # Normalize the data.\n",
    "    data = \n",
    "    \n",
    "    # Step 3\n",
    "    # Calculate the sum of the whole matrix.\n",
    "    mat_sum = \n",
    "    \n",
    "    # Find the smallest element in the matrix.\n",
    "    smallest_elem = \n",
    "    \n",
    "    # Find the highest element in the matrix.\n",
    "    highest_elem = \n",
    "    \n",
    "    # Calculate the row-wise sum.\n",
    "    row_sum = \n",
    "    \n",
    "    # Your answer ends here.\n",
    "    \n",
    "    return mat_sum, smallest_elem, highest_elem, row_sum, data"
   ]
  },
  {
   "cell_type": "markdown",
   "metadata": {},
   "source": [
    "# Send the returned data for grading."
   ]
  },
  {
   "cell_type": "markdown",
   "metadata": {},
   "source": [
    "Here you are going to use matplotlib to visualize the data that you processed till now by using both the function that you created above."
   ]
  },
  {
   "cell_type": "code",
   "execution_count": null,
   "metadata": {},
   "outputs": [],
   "source": [
    "from matplotlib import pyplot as plt\n",
    "\n",
    "data = pd.read_csv(\"assets/data.csv\")\n",
    "\n",
    "data = numpy_processing(pandas_processing(data))\n",
    "\n",
    "# Use the function plt.scatter() to plot data[:,0] and data[:,1] in red color,\n",
    "# Write your answer here\n",
    "\n",
    "# To show the plot\n",
    "plt.show()"
   ]
  },
  {
   "cell_type": "markdown",
   "metadata": {},
   "source": [
    "# Can we validate a visualization exercise  "
   ]
  }
 ],
 "metadata": {
  "kernelspec": {
   "display_name": "Python 3",
   "language": "python",
   "name": "python3"
  },
  "language_info": {
   "codemirror_mode": {
    "name": "ipython",
    "version": 3
   },
   "file_extension": ".py",
   "mimetype": "text/x-python",
   "name": "python",
   "nbconvert_exporter": "python",
   "pygments_lexer": "ipython3",
   "version": "3.8.6"
  }
 },
 "nbformat": 4,
 "nbformat_minor": 4
}
